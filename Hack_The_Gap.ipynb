{
  "nbformat": 4,
  "nbformat_minor": 0,
  "metadata": {
    "colab": {
      "name": "Hack The Gap.ipynb",
      "provenance": [],
      "mount_file_id": "1phhjlA5cX4EGxFNC58ineOsNdeGwiaLP",
      "authorship_tag": "ABX9TyODRKUnqbfeMT1qd88UUyCb",
      "include_colab_link": true
    },
    "kernelspec": {
      "name": "python3",
      "display_name": "Python 3"
    },
    "language_info": {
      "name": "python"
    }
  },
  "cells": [
    {
      "cell_type": "markdown",
      "metadata": {
        "id": "view-in-github",
        "colab_type": "text"
      },
      "source": [
        "<a href=\"https://colab.research.google.com/github/sonali-singh97/GyneConnect/blob/main/Hack_The_Gap.ipynb\" target=\"_parent\"><img src=\"https://colab.research.google.com/assets/colab-badge.svg\" alt=\"Open In Colab\"/></a>"
      ]
    },
    {
      "cell_type": "code",
      "metadata": {
        "id": "am52Ia9dHriC"
      },
      "source": [
        "import pandas as pd\n",
        "import numpy as np\n",
        "import matplotlib.pyplot as plt\n",
        "import seaborn as sns\n",
        "import openpyxl \n",
        "from openpyxl.utils import range_boundaries"
      ],
      "execution_count": 1,
      "outputs": []
    },
    {
      "cell_type": "markdown",
      "metadata": {
        "id": "b3Quczxh3n1f"
      },
      "source": [
        "Link to original data collected by Amba Azaad : https://docs.google.com/spreadsheets/d/1o2QJKrPjKS92cCj6SX73B8siKlW6TlRNKYe0SC7WrX8/edit#gid=1344865269"
      ]
    },
    {
      "cell_type": "markdown",
      "metadata": {
        "id": "jGCgU0ro38cJ"
      },
      "source": [
        "After doing some data cleaning, this is the spreadsheet -> ////add link///////////"
      ]
    },
    {
      "cell_type": "markdown",
      "metadata": {
        "id": "wjvkNpHM4TYP"
      },
      "source": [
        "Workbook has different cities on different sheets, loading each sheet as a dataframe and storing it in a dictionary 'data' with city name as a key:"
      ]
    },
    {
      "cell_type": "code",
      "metadata": {
        "id": "vnLWllyWH-5Z"
      },
      "source": [
        "data = pd.read_excel('/content/drive/MyDrive/Hack The Gap/Crowdsourced List of Gynaecologists We Can Trust In India.xlsx',sheet_name=None,header=None)"
      ],
      "execution_count": 45,
      "outputs": []
    },
    {
      "cell_type": "markdown",
      "metadata": {
        "id": "HlolugcL4wY9"
      },
      "source": [
        "These are the cities present in the data"
      ]
    },
    {
      "cell_type": "code",
      "metadata": {
        "colab": {
          "base_uri": "https://localhost:8080/"
        },
        "id": "xiARnsl2JyN3",
        "outputId": "3e95e39d-03c6-48a1-8775-05f8a5b6cfaa"
      },
      "source": [
        "data.keys()"
      ],
      "execution_count": 3,
      "outputs": [
        {
          "output_type": "execute_result",
          "data": {
            "text/plain": [
              "dict_keys(['Abohar', 'Ahmedabad', 'Allahabad', 'Bengaluru', 'Bhopal', 'Chandigarh', 'Chennai', 'Coimbatore', 'Colombo', 'Delhi', 'Ghaziabad', 'Gurgaon', 'Gwalior', 'Hoshiarpur', 'Hyderabad', 'Indore', 'Jaipur', 'Kakinada', 'Kochi', 'Kolkata', 'Kurnool', 'Lucknow', 'Ludhiana', 'Mangaluru', 'Mumbai', 'Mysuru', 'Nagpur', 'Navi Mumbai', 'Noida', 'Panjim', 'Patiala', 'Pune', 'Ranchi', 'Secunderabad', 'Solapur', 'Surat', 'Thane', 'Thiruvananthapuram', 'Thrissur', 'Udaipur', 'Udupi', 'Vishakapatnam', 'Other Places'])"
            ]
          },
          "metadata": {
            "tags": []
          },
          "execution_count": 3
        }
      ]
    },
    {
      "cell_type": "markdown",
      "metadata": {
        "id": "JomidSSq41n6"
      },
      "source": [
        "Printing shape of each dataframe (In original Amba's sheet, shapes were different, with data stored in different formats in different sheets) "
      ]
    },
    {
      "cell_type": "code",
      "metadata": {
        "id": "vWyRdaPVMkVC"
      },
      "source": [
        "info = pd.DataFrame(columns=['City','Shape'])\n",
        "for i,key in enumerate(data):\n",
        "  info.loc[i] = key,data[key].shape"
      ],
      "execution_count": 4,
      "outputs": []
    },
    {
      "cell_type": "code",
      "metadata": {
        "id": "FqquFk1KPVDL",
        "colab": {
          "base_uri": "https://localhost:8080/",
          "height": 1000
        },
        "outputId": "6a65b375-a45a-4ea6-a469-18739964d974"
      },
      "source": [
        "info"
      ],
      "execution_count": 47,
      "outputs": [
        {
          "output_type": "execute_result",
          "data": {
            "text/html": [
              "<div>\n",
              "<style scoped>\n",
              "    .dataframe tbody tr th:only-of-type {\n",
              "        vertical-align: middle;\n",
              "    }\n",
              "\n",
              "    .dataframe tbody tr th {\n",
              "        vertical-align: top;\n",
              "    }\n",
              "\n",
              "    .dataframe thead th {\n",
              "        text-align: right;\n",
              "    }\n",
              "</style>\n",
              "<table border=\"1\" class=\"dataframe\">\n",
              "  <thead>\n",
              "    <tr style=\"text-align: right;\">\n",
              "      <th></th>\n",
              "      <th>City</th>\n",
              "      <th>Shape</th>\n",
              "    </tr>\n",
              "  </thead>\n",
              "  <tbody>\n",
              "    <tr>\n",
              "      <th>0</th>\n",
              "      <td>Abohar</td>\n",
              "      <td>(60, 2)</td>\n",
              "    </tr>\n",
              "    <tr>\n",
              "      <th>1</th>\n",
              "      <td>Ahmedabad</td>\n",
              "      <td>(60, 6)</td>\n",
              "    </tr>\n",
              "    <tr>\n",
              "      <th>2</th>\n",
              "      <td>Allahabad</td>\n",
              "      <td>(60, 3)</td>\n",
              "    </tr>\n",
              "    <tr>\n",
              "      <th>3</th>\n",
              "      <td>Bengaluru</td>\n",
              "      <td>(60, 98)</td>\n",
              "    </tr>\n",
              "    <tr>\n",
              "      <th>4</th>\n",
              "      <td>Bhopal</td>\n",
              "      <td>(60, 2)</td>\n",
              "    </tr>\n",
              "    <tr>\n",
              "      <th>5</th>\n",
              "      <td>Chandigarh</td>\n",
              "      <td>(60, 2)</td>\n",
              "    </tr>\n",
              "    <tr>\n",
              "      <th>6</th>\n",
              "      <td>Chennai</td>\n",
              "      <td>(60, 31)</td>\n",
              "    </tr>\n",
              "    <tr>\n",
              "      <th>7</th>\n",
              "      <td>Coimbatore</td>\n",
              "      <td>(60, 5)</td>\n",
              "    </tr>\n",
              "    <tr>\n",
              "      <th>8</th>\n",
              "      <td>Colombo</td>\n",
              "      <td>(60, 10)</td>\n",
              "    </tr>\n",
              "    <tr>\n",
              "      <th>9</th>\n",
              "      <td>Delhi</td>\n",
              "      <td>(60, 88)</td>\n",
              "    </tr>\n",
              "    <tr>\n",
              "      <th>10</th>\n",
              "      <td>Ghaziabad</td>\n",
              "      <td>(60, 6)</td>\n",
              "    </tr>\n",
              "    <tr>\n",
              "      <th>11</th>\n",
              "      <td>Gurgaon</td>\n",
              "      <td>(60, 7)</td>\n",
              "    </tr>\n",
              "    <tr>\n",
              "      <th>12</th>\n",
              "      <td>Gwalior</td>\n",
              "      <td>(60, 2)</td>\n",
              "    </tr>\n",
              "    <tr>\n",
              "      <th>13</th>\n",
              "      <td>Hoshiarpur</td>\n",
              "      <td>(60, 2)</td>\n",
              "    </tr>\n",
              "    <tr>\n",
              "      <th>14</th>\n",
              "      <td>Hyderabad</td>\n",
              "      <td>(60, 18)</td>\n",
              "    </tr>\n",
              "    <tr>\n",
              "      <th>15</th>\n",
              "      <td>Indore</td>\n",
              "      <td>(60, 2)</td>\n",
              "    </tr>\n",
              "    <tr>\n",
              "      <th>16</th>\n",
              "      <td>Jaipur</td>\n",
              "      <td>(60, 3)</td>\n",
              "    </tr>\n",
              "    <tr>\n",
              "      <th>17</th>\n",
              "      <td>Kakinada</td>\n",
              "      <td>(60, 2)</td>\n",
              "    </tr>\n",
              "    <tr>\n",
              "      <th>18</th>\n",
              "      <td>Kochi</td>\n",
              "      <td>(60, 3)</td>\n",
              "    </tr>\n",
              "    <tr>\n",
              "      <th>19</th>\n",
              "      <td>Kolkata</td>\n",
              "      <td>(60, 21)</td>\n",
              "    </tr>\n",
              "    <tr>\n",
              "      <th>20</th>\n",
              "      <td>Kurnool</td>\n",
              "      <td>(60, 2)</td>\n",
              "    </tr>\n",
              "    <tr>\n",
              "      <th>21</th>\n",
              "      <td>Lucknow</td>\n",
              "      <td>(60, 3)</td>\n",
              "    </tr>\n",
              "    <tr>\n",
              "      <th>22</th>\n",
              "      <td>Ludhiana</td>\n",
              "      <td>(60, 2)</td>\n",
              "    </tr>\n",
              "    <tr>\n",
              "      <th>23</th>\n",
              "      <td>Mangaluru</td>\n",
              "      <td>(60, 2)</td>\n",
              "    </tr>\n",
              "    <tr>\n",
              "      <th>24</th>\n",
              "      <td>Mumbai</td>\n",
              "      <td>(60, 93)</td>\n",
              "    </tr>\n",
              "    <tr>\n",
              "      <th>25</th>\n",
              "      <td>Mysuru</td>\n",
              "      <td>(60, 2)</td>\n",
              "    </tr>\n",
              "    <tr>\n",
              "      <th>26</th>\n",
              "      <td>Nagpur</td>\n",
              "      <td>(60, 3)</td>\n",
              "    </tr>\n",
              "    <tr>\n",
              "      <th>27</th>\n",
              "      <td>Navi Mumbai</td>\n",
              "      <td>(60, 5)</td>\n",
              "    </tr>\n",
              "    <tr>\n",
              "      <th>28</th>\n",
              "      <td>Noida</td>\n",
              "      <td>(60, 5)</td>\n",
              "    </tr>\n",
              "    <tr>\n",
              "      <th>29</th>\n",
              "      <td>Panjim</td>\n",
              "      <td>(60, 2)</td>\n",
              "    </tr>\n",
              "    <tr>\n",
              "      <th>30</th>\n",
              "      <td>Patiala</td>\n",
              "      <td>(60, 2)</td>\n",
              "    </tr>\n",
              "    <tr>\n",
              "      <th>31</th>\n",
              "      <td>Pune</td>\n",
              "      <td>(60, 17)</td>\n",
              "    </tr>\n",
              "    <tr>\n",
              "      <th>32</th>\n",
              "      <td>Ranchi</td>\n",
              "      <td>(60, 3)</td>\n",
              "    </tr>\n",
              "    <tr>\n",
              "      <th>33</th>\n",
              "      <td>Secunderabad</td>\n",
              "      <td>(60, 2)</td>\n",
              "    </tr>\n",
              "    <tr>\n",
              "      <th>34</th>\n",
              "      <td>Solapur</td>\n",
              "      <td>(60, 2)</td>\n",
              "    </tr>\n",
              "    <tr>\n",
              "      <th>35</th>\n",
              "      <td>Surat</td>\n",
              "      <td>(60, 2)</td>\n",
              "    </tr>\n",
              "    <tr>\n",
              "      <th>36</th>\n",
              "      <td>Thane</td>\n",
              "      <td>(60, 4)</td>\n",
              "    </tr>\n",
              "    <tr>\n",
              "      <th>37</th>\n",
              "      <td>Thiruvananthapuram</td>\n",
              "      <td>(60, 3)</td>\n",
              "    </tr>\n",
              "    <tr>\n",
              "      <th>38</th>\n",
              "      <td>Thrissur</td>\n",
              "      <td>(60, 2)</td>\n",
              "    </tr>\n",
              "    <tr>\n",
              "      <th>39</th>\n",
              "      <td>Udaipur</td>\n",
              "      <td>(60, 2)</td>\n",
              "    </tr>\n",
              "    <tr>\n",
              "      <th>40</th>\n",
              "      <td>Udupi</td>\n",
              "      <td>(60, 2)</td>\n",
              "    </tr>\n",
              "    <tr>\n",
              "      <th>41</th>\n",
              "      <td>Vishakapatnam</td>\n",
              "      <td>(60, 3)</td>\n",
              "    </tr>\n",
              "    <tr>\n",
              "      <th>42</th>\n",
              "      <td>Other Places</td>\n",
              "      <td>(61, 9)</td>\n",
              "    </tr>\n",
              "  </tbody>\n",
              "</table>\n",
              "</div>"
            ],
            "text/plain": [
              "                  City     Shape\n",
              "0               Abohar   (60, 2)\n",
              "1            Ahmedabad   (60, 6)\n",
              "2            Allahabad   (60, 3)\n",
              "3            Bengaluru  (60, 98)\n",
              "4               Bhopal   (60, 2)\n",
              "5           Chandigarh   (60, 2)\n",
              "6              Chennai  (60, 31)\n",
              "7           Coimbatore   (60, 5)\n",
              "8              Colombo  (60, 10)\n",
              "9                Delhi  (60, 88)\n",
              "10           Ghaziabad   (60, 6)\n",
              "11             Gurgaon   (60, 7)\n",
              "12             Gwalior   (60, 2)\n",
              "13          Hoshiarpur   (60, 2)\n",
              "14           Hyderabad  (60, 18)\n",
              "15              Indore   (60, 2)\n",
              "16              Jaipur   (60, 3)\n",
              "17            Kakinada   (60, 2)\n",
              "18               Kochi   (60, 3)\n",
              "19             Kolkata  (60, 21)\n",
              "20             Kurnool   (60, 2)\n",
              "21             Lucknow   (60, 3)\n",
              "22            Ludhiana   (60, 2)\n",
              "23           Mangaluru   (60, 2)\n",
              "24              Mumbai  (60, 93)\n",
              "25              Mysuru   (60, 2)\n",
              "26              Nagpur   (60, 3)\n",
              "27         Navi Mumbai   (60, 5)\n",
              "28               Noida   (60, 5)\n",
              "29              Panjim   (60, 2)\n",
              "30             Patiala   (60, 2)\n",
              "31                Pune  (60, 17)\n",
              "32              Ranchi   (60, 3)\n",
              "33        Secunderabad   (60, 2)\n",
              "34             Solapur   (60, 2)\n",
              "35               Surat   (60, 2)\n",
              "36               Thane   (60, 4)\n",
              "37  Thiruvananthapuram   (60, 3)\n",
              "38            Thrissur   (60, 2)\n",
              "39             Udaipur   (60, 2)\n",
              "40               Udupi   (60, 2)\n",
              "41       Vishakapatnam   (60, 3)\n",
              "42        Other Places   (61, 9)"
            ]
          },
          "metadata": {
            "tags": []
          },
          "execution_count": 47
        }
      ]
    },
    {
      "cell_type": "markdown",
      "metadata": {
        "id": "YjHGt0wC58Oj"
      },
      "source": [
        "Combining all dataframes into single dataframe 'df', with city as an additional column:\n",
        "* For multiple entries for the same doctor, some fields had been merged -> in the dataframe cell content of merged cell was filled in 1st cell of dataframe, and rest got null values hence filled null values with previous column value before appending\n",
        "* we will do this only for name of doctor, since other answers will be unique to reviewer\n",
        "* taking transpose\n",
        "* resetting index \n",
        "* correcting column headers\n",
        "\n"
      ]
    },
    {
      "cell_type": "code",
      "metadata": {
        "id": "PJuVD0ttK94Y"
      },
      "source": [
        "df = data['Other Places'].T\n",
        "df.reset_index(inplace=True)\n",
        "df.columns = df.iloc[0]\n",
        "df = df[1:]"
      ],
      "execution_count": 99,
      "outputs": []
    },
    {
      "cell_type": "code",
      "metadata": {
        "id": "_HIo_4Gcl1i0"
      },
      "source": [
        "for key in data:\n",
        "  data[key][data[key].index==0] = data[key][data[key].index==0].fillna(axis=1,method='ffill')\n",
        "  tmp = data[key].T\n",
        "  tmp.reset_index(inplace=True)\n",
        "  tmp.columns = tmp.iloc[0]\n",
        "  tmp = tmp[1:]\n",
        "  tmp['City'] = key\n",
        "  df = df.append(tmp,ignore_index=True)"
      ],
      "execution_count": 100,
      "outputs": []
    },
    {
      "cell_type": "code",
      "metadata": {
        "id": "Q4Jz48OBcSEk"
      },
      "source": [
        "df.drop(0,axis=1,inplace=True)"
      ],
      "execution_count": 101,
      "outputs": []
    },
    {
      "cell_type": "markdown",
      "metadata": {
        "id": "0xYAYQuBY8R0"
      },
      "source": [
        "Now, let's take a look at our combined dataset"
      ]
    },
    {
      "cell_type": "code",
      "metadata": {
        "colab": {
          "base_uri": "https://localhost:8080/",
          "height": 761
        },
        "id": "v8DMHCtlY6XY",
        "outputId": "ee9d4aaf-397d-45e1-b45a-c57760396a63"
      },
      "source": [
        "df.head()"
      ],
      "execution_count": 102,
      "outputs": [
        {
          "output_type": "execute_result",
          "data": {
            "text/html": [
              "<div>\n",
              "<style scoped>\n",
              "    .dataframe tbody tr th:only-of-type {\n",
              "        vertical-align: middle;\n",
              "    }\n",
              "\n",
              "    .dataframe tbody tr th {\n",
              "        vertical-align: top;\n",
              "    }\n",
              "\n",
              "    .dataframe thead th {\n",
              "        text-align: right;\n",
              "    }\n",
              "</style>\n",
              "<table border=\"1\" class=\"dataframe\">\n",
              "  <thead>\n",
              "    <tr style=\"text-align: right;\">\n",
              "      <th></th>\n",
              "      <th>City</th>\n",
              "      <th>Name</th>\n",
              "      <th>Gender</th>\n",
              "      <th>Age-Range</th>\n",
              "      <th>Office Tel. No.</th>\n",
              "      <th>Office Address</th>\n",
              "      <th>Office Hours</th>\n",
              "      <th>Standard Consultation Fees (INR)</th>\n",
              "      <th>What forms of payment do they accept?</th>\n",
              "      <th>Language(s) Spoken</th>\n",
              "      <th>Is their office wheelchair accessible?</th>\n",
              "      <th>Other disability-accessibility</th>\n",
              "      <th>Do they keep their office hygienic, clean, private and welcoming?</th>\n",
              "      <th>About the Reccer</th>\n",
              "      <th>Reccer's Testimonial</th>\n",
              "      <th>Will they keep your information private, even from your parents or partner?</th>\n",
              "      <th>Will they treat you as autonomous, without demanding permission/consent from parents or partner?</th>\n",
              "      <th>Will they advocate for your legal rights to sexual and medical autonomy if challenged by your family members/spouse/employers?</th>\n",
              "      <th>Will they positively and non-judgementally respect your choice to be accompanied by someone who is not a biological parent or husband?</th>\n",
              "      <th>Will they make poor and/or illiterate folks feel welcomed?</th>\n",
              "      <th>Will they be considerate of your financial burden and not prescribe unnecessary tests to pad their wallet?</th>\n",
              "      <th>Will they make folks from an oppressed religion, race, ethnicity or caste feel welcomed?</th>\n",
              "      <th>Will they respect your dietary choices?</th>\n",
              "      <th>Will they work with your desire for alternative therapies and medicine systems?</th>\n",
              "      <th>Will they make trans men, trans women and other folks who don't identify as cis female feel welcomed?</th>\n",
              "      <th>Will they discuss gender dysphoria related medical issues positively and non-judgementally?</th>\n",
              "      <th>Will they discuss queer sexuality (lesbian, bisexual, ace and others) positively and non-judgementally?</th>\n",
              "      <th>Will they discuss kink, polyamoury, and other forms of sexual expression without embarrassment or censure?</th>\n",
              "      <th>Will they welcome survivors of incest, sexual and domestic abuse, and discuss healing from rape and sexual trauma sensitively and respectfully?</th>\n",
              "      <th>Will they support children and teenagers regardless of their sexual history and place their well-being ahead of their guardian’s morality?</th>\n",
              "      <th>Will they welcome folks with AIDS or other sexually transmittable diseases?</th>\n",
              "      <th>Will they discuss the sexuality of folks with physical disabilities without  judgement, and accommodate their needs while prescribing treatment?</th>\n",
              "      <th>Will they discuss the sexuality of folks with mental illnesses without  judgement, and accommodate their needs while prescribing treatment?</th>\n",
              "      <th>Will they discuss sex work positively and non-judgementally?</th>\n",
              "      <th>Will they frankly and without squeamishness advocate for your sexual satisfaction and pleasure?</th>\n",
              "      <th>Will they discuss masturbation positively and non-judgementally?</th>\n",
              "      <th>Will they discuss menstrual hygiene choices including cups and tampons without moral judgements?</th>\n",
              "      <th>Will they respect the importance you do or don't place on the condition of your hymen?</th>\n",
              "      <th>Will they look for solutions to your pain and illness without advocating marriage/pregnancy?</th>\n",
              "      <th>Will they respectfully and non-judgmentally ask about and accept your sexual activity and history, regardless of marital status?</th>\n",
              "      <th>Will they discuss choosing to stay celibate or child-free positively and non-judgementally?</th>\n",
              "      <th>Will they give you options for birth control without advocating abstinence?</th>\n",
              "      <th>Will they prescribe you the morning after pill without judgement or hesitation?</th>\n",
              "      <th>Will they respect your choice to keep or abort a pregnancy, regardless of your marital status?</th>\n",
              "      <th>Are they equipped for surgical abortions and post-termination monitoring and care?</th>\n",
              "      <th>Will they prescribe, monitor and support pill-based abortions?</th>\n",
              "      <th>Will they respect the importance you do or don't place on the condition of your fertility?</th>\n",
              "      <th>Will they discuss infertility treatment options positively and non-judgementally?</th>\n",
              "      <th>Will they support single parenting, surrogacy and non-normative parenting choices?</th>\n",
              "      <th>Will they refuse - even under pressure - to illegally reveal a foetus’s sex?</th>\n",
              "      <th>Will they support your choice of non-traditional birthing techniques?</th>\n",
              "      <th>Will they welcome your desired companion(s) into their delivery rooms?</th>\n",
              "      <th>Will they seek and respect your decision on any surgical/invasive procedure during delivery?</th>\n",
              "      <th>Are they up-do-date in the field, aware of terms like endometriosis, sex toys, gender dysphoria and PTSD triggers?</th>\n",
              "      <th>Will they routinely screen for and keep you informed about cervical, breast and ovarian cancers?</th>\n",
              "      <th>Will they examine your body thoroughly and professionally without making you feel ugly, embarrassed, ashamed or uncomfortable?</th>\n",
              "      <th>Will they answer all your questions without making you feel immoral, ignorant, helpless or a nuisance?</th>\n",
              "      <th>Will they respect your physical and emotional boundaries if you say you are feeling uncomfortable or in pain?</th>\n",
              "      <th>Will they be able to refer you to non-judgemental and competent mental health professionals, endocrinologists and other allied medical practitioners?</th>\n",
              "      <th>Will they accept criticism of their patient-interaction technique?</th>\n",
              "      <th>Are you aware of a redressal mechanism to report sexual harassment or medical malpractice by this gynaecologist?</th>\n",
              "    </tr>\n",
              "  </thead>\n",
              "  <tbody>\n",
              "    <tr>\n",
              "      <th>0</th>\n",
              "      <td>Boston</td>\n",
              "      <td>Elizabeth Kass, MD</td>\n",
              "      <td>Female</td>\n",
              "      <td>50-59</td>\n",
              "      <td>(617) 267-0900</td>\n",
              "      <td>Fenway Health 1340 Boylston St, Boston, MA 02215</td>\n",
              "      <td>NaN</td>\n",
              "      <td>NaN</td>\n",
              "      <td>NaN</td>\n",
              "      <td>NaN</td>\n",
              "      <td>yes</td>\n",
              "      <td>NaN</td>\n",
              "      <td>Happily, Yep</td>\n",
              "      <td>NaN</td>\n",
              "      <td>NaN</td>\n",
              "      <td>Happily, Yep</td>\n",
              "      <td>Happily, Yep</td>\n",
              "      <td>Happily, Yep</td>\n",
              "      <td>I don't know</td>\n",
              "      <td>Happily, Yep</td>\n",
              "      <td>Happily, Yep</td>\n",
              "      <td>Happily, Yep</td>\n",
              "      <td>Happily, Yep</td>\n",
              "      <td>NaN</td>\n",
              "      <td>Happily, Yep</td>\n",
              "      <td>Happily, Yep</td>\n",
              "      <td>Happily, Yep</td>\n",
              "      <td>NaN</td>\n",
              "      <td>Happily, Yep</td>\n",
              "      <td>NaN</td>\n",
              "      <td>Happily, Yep</td>\n",
              "      <td>Happily, Yep</td>\n",
              "      <td>Happily, Yep</td>\n",
              "      <td>Probably Yes</td>\n",
              "      <td>Happily, Yep</td>\n",
              "      <td>Happily, Yep</td>\n",
              "      <td>Happily, Yep</td>\n",
              "      <td>Happily, Yep</td>\n",
              "      <td>Happily, Yep</td>\n",
              "      <td>Happily, Yep</td>\n",
              "      <td>Happily, Yep</td>\n",
              "      <td>Happily, Yep</td>\n",
              "      <td>Happily, Yep</td>\n",
              "      <td>Happily, Yep</td>\n",
              "      <td>Sadly, Nope</td>\n",
              "      <td>NaN</td>\n",
              "      <td>Happily, Yep</td>\n",
              "      <td>Happily, Yep</td>\n",
              "      <td>Probably Yes</td>\n",
              "      <td>NaN</td>\n",
              "      <td>Probably Yes</td>\n",
              "      <td>Probably Yes</td>\n",
              "      <td>NaN</td>\n",
              "      <td>Happily, Yep</td>\n",
              "      <td>Happily, Yep</td>\n",
              "      <td>Happily, Yep</td>\n",
              "      <td>Happily, Yep</td>\n",
              "      <td>Happily, Yep</td>\n",
              "      <td>Happily, Yep</td>\n",
              "      <td>I don't know</td>\n",
              "      <td>I don't know</td>\n",
              "    </tr>\n",
              "    <tr>\n",
              "      <th>1</th>\n",
              "      <td>Columbia, MO</td>\n",
              "      <td>Holly Ford</td>\n",
              "      <td>Female</td>\n",
              "      <td>30-39, 40-49</td>\n",
              "      <td>(573) 499-6084</td>\n",
              "      <td>404 N Keene St Ste 3\\nColumbia, MO 65201</td>\n",
              "      <td>8-5, M-F</td>\n",
              "      <td>NaN</td>\n",
              "      <td>Credit/Debit Cards</td>\n",
              "      <td>NaN</td>\n",
              "      <td>yes</td>\n",
              "      <td>NaN</td>\n",
              "      <td>Happily, Yep</td>\n",
              "      <td>NaN</td>\n",
              "      <td>NaN</td>\n",
              "      <td>Happily, Yep</td>\n",
              "      <td>Happily, Yep</td>\n",
              "      <td>Probably Yes</td>\n",
              "      <td>Happily, Yep</td>\n",
              "      <td>Probably Yes</td>\n",
              "      <td>Probably Yes</td>\n",
              "      <td>Probably Yes</td>\n",
              "      <td>Happily, Yep</td>\n",
              "      <td>NaN</td>\n",
              "      <td>Probably Yes</td>\n",
              "      <td>I don't know</td>\n",
              "      <td>Happily, Yep</td>\n",
              "      <td>NaN</td>\n",
              "      <td>Probably Yes</td>\n",
              "      <td>NaN</td>\n",
              "      <td>Probably Yes</td>\n",
              "      <td>NaN</td>\n",
              "      <td>NaN</td>\n",
              "      <td>NaN</td>\n",
              "      <td>NaN</td>\n",
              "      <td>NaN</td>\n",
              "      <td>Happily, Yep</td>\n",
              "      <td>Happily, Yep</td>\n",
              "      <td>Happily, Yep</td>\n",
              "      <td>Happily, Yep</td>\n",
              "      <td>Happily, Yep</td>\n",
              "      <td>NaN</td>\n",
              "      <td>NaN</td>\n",
              "      <td>NaN</td>\n",
              "      <td>NaN</td>\n",
              "      <td>NaN</td>\n",
              "      <td>Happily, Yep</td>\n",
              "      <td>NaN</td>\n",
              "      <td>Happily, Yep</td>\n",
              "      <td>NaN</td>\n",
              "      <td>NaN</td>\n",
              "      <td>Probably Yes</td>\n",
              "      <td>NaN</td>\n",
              "      <td>I don't know</td>\n",
              "      <td>Happily, Yep</td>\n",
              "      <td>Happily, Yep</td>\n",
              "      <td>Happily, Yep</td>\n",
              "      <td>Happily, Yep</td>\n",
              "      <td>Happily, Yep</td>\n",
              "      <td>I don't know</td>\n",
              "      <td>I don't know</td>\n",
              "    </tr>\n",
              "    <tr>\n",
              "      <th>2</th>\n",
              "      <td>Sao Paulo, Brasil</td>\n",
              "      <td>Morvan Eluf</td>\n",
              "      <td>Male</td>\n",
              "      <td>50-59</td>\n",
              "      <td>NaN</td>\n",
              "      <td>NaN</td>\n",
              "      <td>NaN</td>\n",
              "      <td>250 reais (80$)</td>\n",
              "      <td>NaN</td>\n",
              "      <td>Portugues</td>\n",
              "      <td>Yes</td>\n",
              "      <td>NaN</td>\n",
              "      <td>Happily, Yep</td>\n",
              "      <td>NaN</td>\n",
              "      <td>NaN</td>\n",
              "      <td>Happily, Yep</td>\n",
              "      <td>Happily, Yep</td>\n",
              "      <td>Probably Yes</td>\n",
              "      <td>Happily, Yep</td>\n",
              "      <td>Probably Yes</td>\n",
              "      <td>Happily, Yep</td>\n",
              "      <td>Happily, Yep</td>\n",
              "      <td>Happily, Yep</td>\n",
              "      <td>Happily, Yep</td>\n",
              "      <td>I don't know</td>\n",
              "      <td>I don't know</td>\n",
              "      <td>Probably Yes</td>\n",
              "      <td>I don't know</td>\n",
              "      <td>Probably Yes</td>\n",
              "      <td>Probably Yes</td>\n",
              "      <td>Probably Yes</td>\n",
              "      <td>Probably Yes</td>\n",
              "      <td>Probably Yes</td>\n",
              "      <td>Happily, Yep</td>\n",
              "      <td>Happily, Yep</td>\n",
              "      <td>Happily, Yep</td>\n",
              "      <td>Probably Yes</td>\n",
              "      <td>Probably Yes</td>\n",
              "      <td>Happily, Yep</td>\n",
              "      <td>Happily, Yep</td>\n",
              "      <td>Happily, Yep</td>\n",
              "      <td>Happily, Yep</td>\n",
              "      <td>Happily, Yep</td>\n",
              "      <td>Probably Yes</td>\n",
              "      <td>The abortion is forbidden in Brasil</td>\n",
              "      <td>Same</td>\n",
              "      <td>Happily, Yep</td>\n",
              "      <td>Happily, Yep</td>\n",
              "      <td>Happily, Yep</td>\n",
              "      <td>Probably Yes</td>\n",
              "      <td>I don't know</td>\n",
              "      <td>Happily, Yep</td>\n",
              "      <td>Probably Yes</td>\n",
              "      <td>Probably Yes</td>\n",
              "      <td>Happily, Yep</td>\n",
              "      <td>Happily, Yep</td>\n",
              "      <td>Happily, Yep</td>\n",
              "      <td>Probably Yes</td>\n",
              "      <td>Happily, Yep</td>\n",
              "      <td>I don't know</td>\n",
              "      <td>Dont get the question</td>\n",
              "    </tr>\n",
              "    <tr>\n",
              "      <th>3</th>\n",
              "      <td>Zurich Switzerland</td>\n",
              "      <td>Dr. Katherin</td>\n",
              "      <td>Female</td>\n",
              "      <td>30-39</td>\n",
              "      <td>+41 44 255 50 36</td>\n",
              "      <td>UniversitätsSpital Zürich\\nFrauenpoliklinik B ...</td>\n",
              "      <td>NaN</td>\n",
              "      <td>Private Insurance</td>\n",
              "      <td>Private Insurance</td>\n",
              "      <td>English and German</td>\n",
              "      <td>Yes</td>\n",
              "      <td>NaN</td>\n",
              "      <td>Extremely clean and hygenic</td>\n",
              "      <td>I am PhD Student at University of Zurich. I am...</td>\n",
              "      <td>I just want to say that gynecologists from Ind...</td>\n",
              "      <td>No, there is no privacy as such</td>\n",
              "      <td>Happily, Yep</td>\n",
              "      <td>Happily, Yep</td>\n",
              "      <td>Happily, Yep</td>\n",
              "      <td>Happily, Yep</td>\n",
              "      <td>They prescribe necessary test irrespective of ...</td>\n",
              "      <td>Happily, Yep</td>\n",
              "      <td>there is dietitian available for pregnant wome...</td>\n",
              "      <td>Happily, Yep</td>\n",
              "      <td>Happily, Yep</td>\n",
              "      <td>Happily, Yep</td>\n",
              "      <td>I don't know</td>\n",
              "      <td>Happily, Yep</td>\n",
              "      <td>there are less cases of rape here ... so i don...</td>\n",
              "      <td>Happily, Yep</td>\n",
              "      <td>Happily, Yep</td>\n",
              "      <td>Happily, Yep</td>\n",
              "      <td>I don't know</td>\n",
              "      <td>Happily, Yep</td>\n",
              "      <td>Happily, Yep</td>\n",
              "      <td>Happily, Yep</td>\n",
              "      <td>I don't know</td>\n",
              "      <td>Happily, Yep</td>\n",
              "      <td>Happily, Yep</td>\n",
              "      <td>Happily, Yep</td>\n",
              "      <td>Probably Not</td>\n",
              "      <td>Probably Yes</td>\n",
              "      <td>Happily, Yep</td>\n",
              "      <td>Happily, Yep</td>\n",
              "      <td>Happily, Yep</td>\n",
              "      <td>Happily, Yep</td>\n",
              "      <td>Happily, Yep</td>\n",
              "      <td>Happily, Yep</td>\n",
              "      <td>Happily, Yep</td>\n",
              "      <td>No,They reveal foetus's sex without hesitation...</td>\n",
              "      <td>Happily, Yep</td>\n",
              "      <td>It is essential for the husband to be present ...</td>\n",
              "      <td>They decide immediately depending on the situa...</td>\n",
              "      <td>Happily, Yep</td>\n",
              "      <td>Happily, Yep</td>\n",
              "      <td>Happily, Yep</td>\n",
              "      <td>Happily, Yep</td>\n",
              "      <td>Happily, Yep</td>\n",
              "      <td>Happily, Yep</td>\n",
              "      <td>Happily, Yep</td>\n",
              "      <td>I don't know</td>\n",
              "    </tr>\n",
              "    <tr>\n",
              "      <th>4</th>\n",
              "      <td>New York City</td>\n",
              "      <td>Lauren Pellegrino</td>\n",
              "      <td>Female</td>\n",
              "      <td>20-29</td>\n",
              "      <td>NaN</td>\n",
              "      <td>The Door \\n555 Broome Street, New York, NY</td>\n",
              "      <td>NaN</td>\n",
              "      <td>NaN</td>\n",
              "      <td>NaN</td>\n",
              "      <td>NaN</td>\n",
              "      <td>NaN</td>\n",
              "      <td>NaN</td>\n",
              "      <td>Probably Yes</td>\n",
              "      <td>I haven't found one I'm 100% happy with, but I...</td>\n",
              "      <td>NaN</td>\n",
              "      <td>Probably Yes</td>\n",
              "      <td>Happily, Yep</td>\n",
              "      <td>Happily, Yep</td>\n",
              "      <td>Happily, Yep</td>\n",
              "      <td>Happily, Yep</td>\n",
              "      <td>Happily, Yep</td>\n",
              "      <td>Happily, Yep</td>\n",
              "      <td>Happily, Yep</td>\n",
              "      <td>Maybe</td>\n",
              "      <td>Happily, Yep</td>\n",
              "      <td>Happily, Yep</td>\n",
              "      <td>Happily, Yep</td>\n",
              "      <td>Probably Yes</td>\n",
              "      <td>Happily, Yep</td>\n",
              "      <td>Happily, Yep</td>\n",
              "      <td>Happily, Yep</td>\n",
              "      <td>Happily, Yep</td>\n",
              "      <td>Happily, Yep</td>\n",
              "      <td>Happily, Yep</td>\n",
              "      <td>Happily, Yep</td>\n",
              "      <td>Happily, Yep</td>\n",
              "      <td>Happily, Yep</td>\n",
              "      <td>Maybe</td>\n",
              "      <td>Happily, Yep</td>\n",
              "      <td>Happily, Yep</td>\n",
              "      <td>Happily, Yep</td>\n",
              "      <td>Happily, Yep</td>\n",
              "      <td>Happily, Yep</td>\n",
              "      <td>Happily, Yep</td>\n",
              "      <td>Probably Yes</td>\n",
              "      <td>Happily, Yep</td>\n",
              "      <td>Probably Yes</td>\n",
              "      <td>Maybe</td>\n",
              "      <td>Happily, Yep</td>\n",
              "      <td>Probably Yes</td>\n",
              "      <td>Happily, Yep</td>\n",
              "      <td>Probably Yes</td>\n",
              "      <td>Happily, Yep</td>\n",
              "      <td>Happily, Yep</td>\n",
              "      <td>Happily, Yep</td>\n",
              "      <td>Happily, Yep</td>\n",
              "      <td>Probably Yes</td>\n",
              "      <td>Happily, Yep</td>\n",
              "      <td>Probably Yes</td>\n",
              "      <td>Maybe</td>\n",
              "      <td>Maybe</td>\n",
              "    </tr>\n",
              "  </tbody>\n",
              "</table>\n",
              "</div>"
            ],
            "text/plain": [
              "0                City  ... Are you aware of a redressal mechanism to report sexual harassment or medical malpractice by this gynaecologist?\n",
              "0              Boston  ...                                       I don't know                                                              \n",
              "1        Columbia, MO  ...                                       I don't know                                                              \n",
              "2   Sao Paulo, Brasil  ...                              Dont get the question                                                              \n",
              "3  Zurich Switzerland  ...                                       I don't know                                                              \n",
              "4       New York City  ...                                              Maybe                                                              \n",
              "\n",
              "[5 rows x 61 columns]"
            ]
          },
          "metadata": {
            "tags": []
          },
          "execution_count": 102
        }
      ]
    },
    {
      "cell_type": "code",
      "metadata": {
        "colab": {
          "base_uri": "https://localhost:8080/"
        },
        "id": "sEs1XqZg7eTz",
        "outputId": "ec33eb75-a2a7-4a91-ddc2-1343203ca862"
      },
      "source": [
        "df.shape"
      ],
      "execution_count": 103,
      "outputs": [
        {
          "output_type": "execute_result",
          "data": {
            "text/plain": [
              "(450, 61)"
            ]
          },
          "metadata": {
            "tags": []
          },
          "execution_count": 103
        }
      ]
    },
    {
      "cell_type": "markdown",
      "metadata": {
        "id": "CK6GjmwabY0C"
      },
      "source": [
        "Let's ensure that there are no null values in the two compulsary fields, name and city"
      ]
    },
    {
      "cell_type": "code",
      "metadata": {
        "colab": {
          "base_uri": "https://localhost:8080/"
        },
        "id": "bugbQHNa7XSc",
        "outputId": "3f93ebcf-15b6-48e5-c371-f7570a51dbff"
      },
      "source": [
        "df.isnull().sum().head(2)"
      ],
      "execution_count": 104,
      "outputs": [
        {
          "output_type": "execute_result",
          "data": {
            "text/plain": [
              "0\n",
              "City    0\n",
              "Name    0\n",
              "dtype: int64"
            ]
          },
          "metadata": {
            "tags": []
          },
          "execution_count": 104
        }
      ]
    },
    {
      "cell_type": "code",
      "metadata": {
        "colab": {
          "base_uri": "https://localhost:8080/"
        },
        "id": "a3xhPE4JezND",
        "outputId": "8d5852be-fcd3-401b-a873-5e193e1f4e80"
      },
      "source": [
        "df.columns"
      ],
      "execution_count": 105,
      "outputs": [
        {
          "output_type": "execute_result",
          "data": {
            "text/plain": [
              "Index(['City', 'Name', 'Gender', 'Age-Range', 'Office Tel. No.',\n",
              "       'Office Address', 'Office Hours', 'Standard Consultation Fees (INR)',\n",
              "       'What forms of payment do they accept?', 'Language(s) Spoken',\n",
              "       'Is their office wheelchair accessible?',\n",
              "       'Other disability-accessibility',\n",
              "       'Do they keep their office hygienic, clean, private and welcoming?',\n",
              "       'About the Reccer', 'Reccer's Testimonial',\n",
              "       'Will they keep your information private, even from your parents or partner? ',\n",
              "       'Will they treat you as autonomous, without demanding permission/consent from parents or partner? ',\n",
              "       'Will they advocate for your legal rights to sexual and medical autonomy if challenged by your family members/spouse/employers?',\n",
              "       'Will they positively and non-judgementally respect your choice to be accompanied by someone who is not a biological parent or husband?',\n",
              "       'Will they make poor and/or illiterate folks feel welcomed?',\n",
              "       'Will they be considerate of your financial burden and not prescribe unnecessary tests to pad their wallet?',\n",
              "       'Will they make folks from an oppressed religion, race, ethnicity or caste feel welcomed?',\n",
              "       'Will they respect your dietary choices?',\n",
              "       'Will they work with your desire for alternative therapies and medicine systems?',\n",
              "       'Will they make trans men, trans women and other folks who don't identify as cis female feel welcomed?',\n",
              "       'Will they discuss gender dysphoria related medical issues positively and non-judgementally?',\n",
              "       'Will they discuss queer sexuality (lesbian, bisexual, ace and others) positively and non-judgementally?',\n",
              "       'Will they discuss kink, polyamoury, and other forms of sexual expression without embarrassment or censure?',\n",
              "       'Will they welcome survivors of incest, sexual and domestic abuse, and discuss healing from rape and sexual trauma sensitively and respectfully?',\n",
              "       'Will they support children and teenagers regardless of their sexual history and place their well-being ahead of their guardian’s morality?',\n",
              "       'Will they welcome folks with AIDS or other sexually transmittable diseases?',\n",
              "       'Will they discuss the sexuality of folks with physical disabilities without  judgement, and accommodate their needs while prescribing treatment?',\n",
              "       'Will they discuss the sexuality of folks with mental illnesses without  judgement, and accommodate their needs while prescribing treatment?',\n",
              "       'Will they discuss sex work positively and non-judgementally?',\n",
              "       'Will they frankly and without squeamishness advocate for your sexual satisfaction and pleasure?',\n",
              "       'Will they discuss masturbation positively and non-judgementally?',\n",
              "       'Will they discuss menstrual hygiene choices including cups and tampons without moral judgements?',\n",
              "       'Will they respect the importance you do or don't place on the condition of your hymen?',\n",
              "       'Will they look for solutions to your pain and illness without advocating marriage/pregnancy?',\n",
              "       'Will they respectfully and non-judgmentally ask about and accept your sexual activity and history, regardless of marital status?',\n",
              "       'Will they discuss choosing to stay celibate or child-free positively and non-judgementally?',\n",
              "       'Will they give you options for birth control without advocating abstinence?',\n",
              "       'Will they prescribe you the morning after pill without judgement or hesitation?',\n",
              "       'Will they respect your choice to keep or abort a pregnancy, regardless of your marital status?',\n",
              "       'Are they equipped for surgical abortions and post-termination monitoring and care?',\n",
              "       'Will they prescribe, monitor and support pill-based abortions?',\n",
              "       'Will they respect the importance you do or don't place on the condition of your fertility?',\n",
              "       'Will they discuss infertility treatment options positively and non-judgementally?',\n",
              "       'Will they support single parenting, surrogacy and non-normative parenting choices?',\n",
              "       'Will they refuse - even under pressure - to illegally reveal a foetus’s sex?',\n",
              "       'Will they support your choice of non-traditional birthing techniques?',\n",
              "       'Will they welcome your desired companion(s) into their delivery rooms?',\n",
              "       'Will they seek and respect your decision on any surgical/invasive procedure during delivery?',\n",
              "       'Are they up-do-date in the field, aware of terms like endometriosis, sex toys, gender dysphoria and PTSD triggers?',\n",
              "       'Will they routinely screen for and keep you informed about cervical, breast and ovarian cancers?',\n",
              "       'Will they examine your body thoroughly and professionally without making you feel ugly, embarrassed, ashamed or uncomfortable?',\n",
              "       'Will they answer all your questions without making you feel immoral, ignorant, helpless or a nuisance?',\n",
              "       'Will they respect your physical and emotional boundaries if you say you are feeling uncomfortable or in pain?',\n",
              "       'Will they be able to refer you to non-judgemental and competent mental health professionals, endocrinologists and other allied medical practitioners?',\n",
              "       'Will they accept criticism of their patient-interaction technique?',\n",
              "       'Are you aware of a redressal mechanism to report sexual harassment or medical malpractice by this gynaecologist?'],\n",
              "      dtype='object', name=0)"
            ]
          },
          "metadata": {
            "tags": []
          },
          "execution_count": 105
        }
      ]
    },
    {
      "cell_type": "markdown",
      "metadata": {
        "id": "3894frjscVoD"
      },
      "source": [
        "Now, creating a new dataframe for GyneConnect"
      ]
    },
    {
      "cell_type": "code",
      "metadata": {
        "id": "p646jhjIcMi-"
      },
      "source": [
        "gyne = pd.DataFrame(data = {'Name':df.Name,'City':df.City,'Gender':df.Gender,'Contact No':df['Office Tel. No.'],'Address':df['Office Address'],'Office Hours':df['Office Hours'],'Fees':df['Standard Consultation Fees (INR)'],'About Reccer':df['About the Reccer'],'Testimonial':df[\"Reccer's Testimonial\"]},columns=['Name','City','Gender','Contact No','Address','Office Hours','Fees','TAG_auto','TAG_trans','TAG_queer','TAG_abuse','TAG_std','TAG_body','TAG_consent','About Reccer','Testimonial'])"
      ],
      "execution_count": 106,
      "outputs": []
    },
    {
      "cell_type": "code",
      "metadata": {
        "id": "Xb368RlrdkaQ"
      },
      "source": [
        "gyne.TAG_queer = df['Will they discuss queer sexuality (lesbian, bisexual, ace and others) positively and non-judgementally?'].str.contains('Yes|Yep')\n",
        "gyne.TAG_abuse = df['Will they welcome survivors of incest, sexual and domestic abuse, and discuss healing from rape and sexual trauma sensitively and respectfully?'].str.contains('Yes|Yep')\n",
        "gyne.TAG_std = df['Will they welcome folks with AIDS or other sexually transmittable diseases?'].str.contains('Yes|Yep')\n",
        "gyne.TAG_body = df['Will they examine your body thoroughly and professionally without making you feel ugly, embarrassed, ashamed or uncomfortable?'].str.contains('Yes|Yep')"
      ],
      "execution_count": 107,
      "outputs": []
    },
    {
      "cell_type": "code",
      "metadata": {
        "colab": {
          "base_uri": "https://localhost:8080/",
          "height": 509
        },
        "id": "P20_wxGrg5Ge",
        "outputId": "29f52650-4ced-48c5-b28e-d714f6921142"
      },
      "source": [
        "gyne.head()"
      ],
      "execution_count": 108,
      "outputs": [
        {
          "output_type": "execute_result",
          "data": {
            "text/html": [
              "<div>\n",
              "<style scoped>\n",
              "    .dataframe tbody tr th:only-of-type {\n",
              "        vertical-align: middle;\n",
              "    }\n",
              "\n",
              "    .dataframe tbody tr th {\n",
              "        vertical-align: top;\n",
              "    }\n",
              "\n",
              "    .dataframe thead th {\n",
              "        text-align: right;\n",
              "    }\n",
              "</style>\n",
              "<table border=\"1\" class=\"dataframe\">\n",
              "  <thead>\n",
              "    <tr style=\"text-align: right;\">\n",
              "      <th></th>\n",
              "      <th>Name</th>\n",
              "      <th>City</th>\n",
              "      <th>Gender</th>\n",
              "      <th>Contact No</th>\n",
              "      <th>Address</th>\n",
              "      <th>Office Hours</th>\n",
              "      <th>Fees</th>\n",
              "      <th>TAG_auto</th>\n",
              "      <th>TAG_trans</th>\n",
              "      <th>TAG_queer</th>\n",
              "      <th>TAG_abuse</th>\n",
              "      <th>TAG_std</th>\n",
              "      <th>TAG_body</th>\n",
              "      <th>TAG_consent</th>\n",
              "      <th>About Reccer</th>\n",
              "      <th>Testimonial</th>\n",
              "    </tr>\n",
              "  </thead>\n",
              "  <tbody>\n",
              "    <tr>\n",
              "      <th>0</th>\n",
              "      <td>Elizabeth Kass, MD</td>\n",
              "      <td>Boston</td>\n",
              "      <td>Female</td>\n",
              "      <td>(617) 267-0900</td>\n",
              "      <td>Fenway Health 1340 Boylston St, Boston, MA 02215</td>\n",
              "      <td>NaN</td>\n",
              "      <td>NaN</td>\n",
              "      <td>NaN</td>\n",
              "      <td>NaN</td>\n",
              "      <td>True</td>\n",
              "      <td>True</td>\n",
              "      <td>True</td>\n",
              "      <td>True</td>\n",
              "      <td>NaN</td>\n",
              "      <td>NaN</td>\n",
              "      <td>NaN</td>\n",
              "    </tr>\n",
              "    <tr>\n",
              "      <th>1</th>\n",
              "      <td>Holly Ford</td>\n",
              "      <td>Columbia, MO</td>\n",
              "      <td>Female</td>\n",
              "      <td>(573) 499-6084</td>\n",
              "      <td>404 N Keene St Ste 3\\nColumbia, MO 65201</td>\n",
              "      <td>8-5, M-F</td>\n",
              "      <td>NaN</td>\n",
              "      <td>NaN</td>\n",
              "      <td>NaN</td>\n",
              "      <td>True</td>\n",
              "      <td>True</td>\n",
              "      <td>True</td>\n",
              "      <td>True</td>\n",
              "      <td>NaN</td>\n",
              "      <td>NaN</td>\n",
              "      <td>NaN</td>\n",
              "    </tr>\n",
              "    <tr>\n",
              "      <th>2</th>\n",
              "      <td>Morvan Eluf</td>\n",
              "      <td>Sao Paulo, Brasil</td>\n",
              "      <td>Male</td>\n",
              "      <td>NaN</td>\n",
              "      <td>NaN</td>\n",
              "      <td>NaN</td>\n",
              "      <td>250 reais (80$)</td>\n",
              "      <td>NaN</td>\n",
              "      <td>NaN</td>\n",
              "      <td>True</td>\n",
              "      <td>True</td>\n",
              "      <td>True</td>\n",
              "      <td>True</td>\n",
              "      <td>NaN</td>\n",
              "      <td>NaN</td>\n",
              "      <td>NaN</td>\n",
              "    </tr>\n",
              "    <tr>\n",
              "      <th>3</th>\n",
              "      <td>Dr. Katherin</td>\n",
              "      <td>Zurich Switzerland</td>\n",
              "      <td>Female</td>\n",
              "      <td>+41 44 255 50 36</td>\n",
              "      <td>UniversitätsSpital Zürich\\nFrauenpoliklinik B ...</td>\n",
              "      <td>NaN</td>\n",
              "      <td>Private Insurance</td>\n",
              "      <td>NaN</td>\n",
              "      <td>NaN</td>\n",
              "      <td>False</td>\n",
              "      <td>False</td>\n",
              "      <td>True</td>\n",
              "      <td>True</td>\n",
              "      <td>NaN</td>\n",
              "      <td>I am PhD Student at University of Zurich. I am...</td>\n",
              "      <td>I just want to say that gynecologists from Ind...</td>\n",
              "    </tr>\n",
              "    <tr>\n",
              "      <th>4</th>\n",
              "      <td>Lauren Pellegrino</td>\n",
              "      <td>New York City</td>\n",
              "      <td>Female</td>\n",
              "      <td>NaN</td>\n",
              "      <td>The Door \\n555 Broome Street, New York, NY</td>\n",
              "      <td>NaN</td>\n",
              "      <td>NaN</td>\n",
              "      <td>NaN</td>\n",
              "      <td>NaN</td>\n",
              "      <td>True</td>\n",
              "      <td>True</td>\n",
              "      <td>True</td>\n",
              "      <td>True</td>\n",
              "      <td>NaN</td>\n",
              "      <td>I haven't found one I'm 100% happy with, but I...</td>\n",
              "      <td>NaN</td>\n",
              "    </tr>\n",
              "  </tbody>\n",
              "</table>\n",
              "</div>"
            ],
            "text/plain": [
              "                 Name  ...                                        Testimonial\n",
              "0  Elizabeth Kass, MD  ...                                                NaN\n",
              "1          Holly Ford  ...                                                NaN\n",
              "2         Morvan Eluf  ...                                                NaN\n",
              "3        Dr. Katherin  ...  I just want to say that gynecologists from Ind...\n",
              "4  Lauren Pellegrino   ...                                                NaN\n",
              "\n",
              "[5 rows x 16 columns]"
            ]
          },
          "metadata": {
            "tags": []
          },
          "execution_count": 108
        }
      ]
    },
    {
      "cell_type": "markdown",
      "metadata": {
        "id": "nDot7cKkg-x_"
      },
      "source": [
        "Now, for the TAGs which require more than one question"
      ]
    },
    {
      "cell_type": "code",
      "metadata": {
        "id": "765Kad3Yhh-x"
      },
      "source": [
        "gyne.TAG_trans = df[\"Will they make trans men, trans women and other folks who don't identify as cis female feel welcomed?\"].str.contains('Yes|Yep') | df['Will they discuss gender dysphoria related medical issues positively and non-judgementally?'].str.contains('Yes|Yep') "
      ],
      "execution_count": 109,
      "outputs": []
    },
    {
      "cell_type": "code",
      "metadata": {
        "id": "ePDpNtLNhSGI"
      },
      "source": [
        "gyne.TAG_consent = df['Will they treat you as autonomous, without demanding permission/consent from parents or partner? '].str.contains('Yes|Yep') & df['Will they keep your information private, even from your parents or partner? '].str.contains('Yes|Yep')"
      ],
      "execution_count": 110,
      "outputs": []
    },
    {
      "cell_type": "code",
      "metadata": {
        "id": "Yjd1MUbmhJA6"
      },
      "source": [
        "gyne.TAG_auto = df['Will they look for solutions to your pain and illness without advocating marriage/pregnancy?'].str.contains('Yes|Yep') & df['Will they respectfully and non-judgmentally ask about and accept your sexual activity and history, regardless of marital status?'].str.contains('Yes|Yep') & df['Will they discuss choosing to stay celibate or child-free positively and non-judgementally?'].str.contains('Yes|Yep') & df['Will they treat you as autonomous, without demanding permission/consent from parents or partner? '].str.contains('Yes|Yep') "
      ],
      "execution_count": 111,
      "outputs": []
    },
    {
      "cell_type": "code",
      "metadata": {
        "colab": {
          "base_uri": "https://localhost:8080/",
          "height": 509
        },
        "id": "fnCwfVXEkIoC",
        "outputId": "def4d263-9e2c-4d93-cb1b-aba847f6f9b4"
      },
      "source": [
        "gyne.head()"
      ],
      "execution_count": 112,
      "outputs": [
        {
          "output_type": "execute_result",
          "data": {
            "text/html": [
              "<div>\n",
              "<style scoped>\n",
              "    .dataframe tbody tr th:only-of-type {\n",
              "        vertical-align: middle;\n",
              "    }\n",
              "\n",
              "    .dataframe tbody tr th {\n",
              "        vertical-align: top;\n",
              "    }\n",
              "\n",
              "    .dataframe thead th {\n",
              "        text-align: right;\n",
              "    }\n",
              "</style>\n",
              "<table border=\"1\" class=\"dataframe\">\n",
              "  <thead>\n",
              "    <tr style=\"text-align: right;\">\n",
              "      <th></th>\n",
              "      <th>Name</th>\n",
              "      <th>City</th>\n",
              "      <th>Gender</th>\n",
              "      <th>Contact No</th>\n",
              "      <th>Address</th>\n",
              "      <th>Office Hours</th>\n",
              "      <th>Fees</th>\n",
              "      <th>TAG_auto</th>\n",
              "      <th>TAG_trans</th>\n",
              "      <th>TAG_queer</th>\n",
              "      <th>TAG_abuse</th>\n",
              "      <th>TAG_std</th>\n",
              "      <th>TAG_body</th>\n",
              "      <th>TAG_consent</th>\n",
              "      <th>About Reccer</th>\n",
              "      <th>Testimonial</th>\n",
              "    </tr>\n",
              "  </thead>\n",
              "  <tbody>\n",
              "    <tr>\n",
              "      <th>0</th>\n",
              "      <td>Elizabeth Kass, MD</td>\n",
              "      <td>Boston</td>\n",
              "      <td>Female</td>\n",
              "      <td>(617) 267-0900</td>\n",
              "      <td>Fenway Health 1340 Boylston St, Boston, MA 02215</td>\n",
              "      <td>NaN</td>\n",
              "      <td>NaN</td>\n",
              "      <td>True</td>\n",
              "      <td>True</td>\n",
              "      <td>True</td>\n",
              "      <td>True</td>\n",
              "      <td>True</td>\n",
              "      <td>True</td>\n",
              "      <td>True</td>\n",
              "      <td>NaN</td>\n",
              "      <td>NaN</td>\n",
              "    </tr>\n",
              "    <tr>\n",
              "      <th>1</th>\n",
              "      <td>Holly Ford</td>\n",
              "      <td>Columbia, MO</td>\n",
              "      <td>Female</td>\n",
              "      <td>(573) 499-6084</td>\n",
              "      <td>404 N Keene St Ste 3\\nColumbia, MO 65201</td>\n",
              "      <td>8-5, M-F</td>\n",
              "      <td>NaN</td>\n",
              "      <td>True</td>\n",
              "      <td>True</td>\n",
              "      <td>True</td>\n",
              "      <td>True</td>\n",
              "      <td>True</td>\n",
              "      <td>True</td>\n",
              "      <td>True</td>\n",
              "      <td>NaN</td>\n",
              "      <td>NaN</td>\n",
              "    </tr>\n",
              "    <tr>\n",
              "      <th>2</th>\n",
              "      <td>Morvan Eluf</td>\n",
              "      <td>Sao Paulo, Brasil</td>\n",
              "      <td>Male</td>\n",
              "      <td>NaN</td>\n",
              "      <td>NaN</td>\n",
              "      <td>NaN</td>\n",
              "      <td>250 reais (80$)</td>\n",
              "      <td>True</td>\n",
              "      <td>False</td>\n",
              "      <td>True</td>\n",
              "      <td>True</td>\n",
              "      <td>True</td>\n",
              "      <td>True</td>\n",
              "      <td>True</td>\n",
              "      <td>NaN</td>\n",
              "      <td>NaN</td>\n",
              "    </tr>\n",
              "    <tr>\n",
              "      <th>3</th>\n",
              "      <td>Dr. Katherin</td>\n",
              "      <td>Zurich Switzerland</td>\n",
              "      <td>Female</td>\n",
              "      <td>+41 44 255 50 36</td>\n",
              "      <td>UniversitätsSpital Zürich\\nFrauenpoliklinik B ...</td>\n",
              "      <td>NaN</td>\n",
              "      <td>Private Insurance</td>\n",
              "      <td>False</td>\n",
              "      <td>True</td>\n",
              "      <td>False</td>\n",
              "      <td>False</td>\n",
              "      <td>True</td>\n",
              "      <td>True</td>\n",
              "      <td>False</td>\n",
              "      <td>I am PhD Student at University of Zurich. I am...</td>\n",
              "      <td>I just want to say that gynecologists from Ind...</td>\n",
              "    </tr>\n",
              "    <tr>\n",
              "      <th>4</th>\n",
              "      <td>Lauren Pellegrino</td>\n",
              "      <td>New York City</td>\n",
              "      <td>Female</td>\n",
              "      <td>NaN</td>\n",
              "      <td>The Door \\n555 Broome Street, New York, NY</td>\n",
              "      <td>NaN</td>\n",
              "      <td>NaN</td>\n",
              "      <td>True</td>\n",
              "      <td>True</td>\n",
              "      <td>True</td>\n",
              "      <td>True</td>\n",
              "      <td>True</td>\n",
              "      <td>True</td>\n",
              "      <td>True</td>\n",
              "      <td>I haven't found one I'm 100% happy with, but I...</td>\n",
              "      <td>NaN</td>\n",
              "    </tr>\n",
              "  </tbody>\n",
              "</table>\n",
              "</div>"
            ],
            "text/plain": [
              "                 Name  ...                                        Testimonial\n",
              "0  Elizabeth Kass, MD  ...                                                NaN\n",
              "1          Holly Ford  ...                                                NaN\n",
              "2         Morvan Eluf  ...                                                NaN\n",
              "3        Dr. Katherin  ...  I just want to say that gynecologists from Ind...\n",
              "4  Lauren Pellegrino   ...                                                NaN\n",
              "\n",
              "[5 rows x 16 columns]"
            ]
          },
          "metadata": {
            "tags": []
          },
          "execution_count": 112
        }
      ]
    },
    {
      "cell_type": "code",
      "metadata": {
        "id": "34UgV2oGk_Ma"
      },
      "source": [
        ""
      ],
      "execution_count": 112,
      "outputs": []
    },
    {
      "cell_type": "code",
      "metadata": {
        "id": "bqJLNhhTk6HJ"
      },
      "source": [
        "gyne.to_json('doctors_data.json')"
      ],
      "execution_count": 114,
      "outputs": []
    },
    {
      "cell_type": "code",
      "metadata": {
        "id": "hfadZIwPkkSH"
      },
      "source": [
        "gyne.to_csv('doctors_data.csv',header=True)"
      ],
      "execution_count": 115,
      "outputs": []
    },
    {
      "cell_type": "code",
      "metadata": {
        "id": "y7-imf4Vk2fv"
      },
      "source": [
        ""
      ],
      "execution_count": null,
      "outputs": []
    }
  ]
}